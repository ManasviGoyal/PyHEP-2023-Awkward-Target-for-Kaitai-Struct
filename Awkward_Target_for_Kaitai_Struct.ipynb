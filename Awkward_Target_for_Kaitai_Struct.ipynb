{
 "cells": [
  {
   "cell_type": "markdown",
   "metadata": {},
   "source": [
    "#  Awkward Target for Kaitai Struct\n",
    "Data formats for scientific data often differ across experiments due the hardware design and availability constraints. To interact with these unique data formats, researchers have to develop, document and maintain specific analysis software which are often tightly coupled with a particular data format.\n",
    "\n",
    "This proliferation of custom data formats has been a prominent challenge for the Nuclear and High Energy Physics (NHEP) community. Within the Large Hadron Collider (LHC) experiments, this problem has largely been mitigated with the widespread adoption of `ROOT`.\n",
    "\n",
    "However, not all experiments in the NHEP community use `ROOT` for their data formats. Experiments such as Cryogenic Dark Matter Search (CDMS) continue to use custom data formats to meet specific research needs. Therefore, simplifying the process of converting a unique data format to analysis code while requiring no changes to existing data formats still holds immense value for the broader NHEP community."
   ]
  },
  {
   "cell_type": "markdown",
   "metadata": {},
   "source": [
    "<div>\n",
    "    <img src=\"img/Kaitai%20logo.png\" width=\"40\" style=\"float: left; margin-right: 10px;\"/>\n",
    "    <h2>Kaitai Struct YAML</h2>\n",
    "</div>\n",
    "Kaitai Struct is a declarative language that uses a YAML-like description of a binary data structure to generate code, in any supported language, for reading a raw data file.\n",
    "\n",
    "The main idea is that a particular format is described in `Kaitai Struct YAML (KSY)` language and then can be compiled with `Kaitai Struct Compiler (ksc)` into source files in one of the supported programming languages. These modules include a generated code for a parser that can read the described data structure from a file or stream and can be included as a library in any external code."
   ]
  },
  {
   "cell_type": "markdown",
   "metadata": {},
   "source": [
    "<p style=\"text-align: center;\">\n",
    "    <img src=\"img/Kaitai%20workflow.png\" width=\"750\">\n",
    "</p>"
   ]
  },
  {
   "cell_type": "markdown",
   "metadata": {},
   "source": [
    "### Kaitai Example\n",
    "\n",
    "Take an example of a simple binary data structure that describes an animal species, age, and weight. You want to analyze this animal data in Python. This data structure can be described in `KSY` format. This file can then be passed to the Kaitai Struct compiler which generates a Python script that can be imported into any other Python code.\n"
   ]
  },
  {
   "cell_type": "markdown",
   "metadata": {},
   "source": [
    "<p style=\"float: right;\">\n",
    "    <img src=\"img/animal.png\" width=\"600\" style=\"margin-bottom: 40px;\"> <br>\n",
    "    <img src=\"img/animal%20python.png\" width=\"500\" style=\"margin-top: 40px;\">\n",
    "</p>\n",
    "\n",
    "```yaml\n",
    "meta:\n",
    "  id: animal\n",
    "  endian: le\n",
    "  license: CC0-1.0\n",
    "  ks-version: 0.8\n",
    "\n",
    "seq:\n",
    "\n",
    "  - id: entry\n",
    "    type: animal_entry\n",
    "    repeat: eos\n",
    "\n",
    "types:\n",
    "\n",
    "  animal_entry:\n",
    "    seq:\n",
    "      - id: str_len\n",
    "        type: u1\n",
    "\n",
    "      - id: species\n",
    "        type: str\n",
    "        size: str_len\n",
    "        encoding: UTF-8\n",
    "\n",
    "      - id: age\n",
    "        type: u1\n",
    "\n",
    "      - id: weight\n",
    "        type: u2\n",
    "```"
   ]
  },
  {
   "cell_type": "markdown",
   "metadata": {},
   "source": [
    "Generated Python script `animal.py`\n",
    "\n",
    "```python\n",
    "import kaitaistruct\n",
    "from kaitaistruct import KaitaiStruct, KaitaiStream, BytesIO\n",
    "\n",
    "\n",
    "if getattr(kaitaistruct, 'API_VERSION', (0, 9)) < (0, 9):\n",
    "    raise Exception(\"Incompatible Kaitai Struct Python API: 0.9 or later is required, but you have %s\" % (kaitaistruct.__version__))\n",
    "\n",
    "class Animal(KaitaiStruct):\n",
    "    def __init__(self, _io, _parent=None, _root=None):\n",
    "        self._io = _io\n",
    "        self._parent = _parent\n",
    "        self._root = _root if _root else self\n",
    "        self._read()\n",
    "\n",
    "    def _read(self):\n",
    "        self.entry = []\n",
    "        i = 0\n",
    "        while not self._io.is_eof():\n",
    "            self.entry.append(Animal.AnimalEntry(self._io, self, self._root))\n",
    "            i += 1\n",
    "\n",
    "\n",
    "    class AnimalEntry(KaitaiStruct):\n",
    "        def __init__(self, _io, _parent=None, _root=None):\n",
    "            self._io = _io\n",
    "            self._parent = _parent\n",
    "            self._root = _root if _root else self\n",
    "            self._read()\n",
    "\n",
    "        def _read(self):\n",
    "            self.str_len = self._io.read_u1()\n",
    "            self.species = (self._io.read_bytes(self.str_len)).decode(u\"UTF-8\")\n",
    "            self.age = self._io.read_u1()\n",
    "            self.weight = self._io.read_u2le()"
   ]
  },
  {
   "cell_type": "markdown",
   "metadata": {},
   "source": [
    "<div>\n",
    "    <img src=\"img/Awkward%20logo.png\" width=\"200\" style=\"align=left;\"/>\n",
    "</div>\n",
    "\n",
    "When dealing with large files and complicated data structures of scientific data which consists of nested arrays, even the most efficient Python code can be quite time and resource-heavy."
   ]
  },
  {
   "cell_type": "markdown",
   "metadata": {},
   "source": [
    "<p style=\"text-align: center;\">\n",
    "    <strong>MIDAS Event Format</strong> <br>\n",
    "    <img src=\"img/MIDAS.jpg\" width=\"700\">\n",
    "</p>"
   ]
  },
  {
   "cell_type": "markdown",
   "metadata": {},
   "source": [
    "\n",
    "Awkward Array is a Scikit-HEP library that uses NumPy-like idioms to create arrays of nested records, variable-length lists, mixed types, and missing data. It offers a dynamic and memory efficient approach to represent complex data structures into Numpy-like arrays. Therefore, we propose adding Awkward Array as one of the target languages for Kaitai  Struct using the header-only `LayoutBuilder`.\n",
    "\n",
    "Refer to Ianna Osborne's talk to know more about [LayoutBuilder](https://github.com/ianna/PyHEP-Users-Workshop-2023/blob/main/slides/Awkward_LayoutBuilder.ipynb)."
   ]
  },
  {
   "cell_type": "markdown",
   "metadata": {},
   "source": [
    "## Awkward Target for Kaitai: How it works?\n",
    "\n",
    "Users can simply describe their data format in the `.ksy` format just once. Then this KSY file can be converted into a compiled Python module (C++ files wrapped up in pybind11 and Scikit-Build) which takes the raw data and converts it into Awkward Arrays."
   ]
  },
  {
   "cell_type": "markdown",
   "metadata": {},
   "source": [
    "<p style=\"text-align: center;\">\n",
    "    <img src=\"img/Awkward%20Kaitai%20workflow.png\" width=\"1000\">\n",
    "</p>"
   ]
  },
  {
   "cell_type": "markdown",
   "metadata": {},
   "source": [
    "### Example\n",
    "\n",
    "Take an example of this simple `fake.ksy` file - \n",
    "\n",
    "```yaml\n",
    "meta:\n",
    "  id: fake\n",
    "  file-extension: raw\n",
    "  endian: le\n",
    "\n",
    "seq:\n",
    "  - id: points\n",
    "    type: point\n",
    "    repeat: eos\n",
    "\n",
    "types:\n",
    "  point:\n",
    "    seq:\n",
    "      - id: x\n",
    "        type: u4\n",
    "      - id: y\n",
    "        type: u4\n",
    "      - id: z\n",
    "        type: u4"
   ]
  },
  {
   "cell_type": "markdown",
   "metadata": {},
   "source": [
    "#### Steps\n",
    "\n",
    "1. Clone the `kaitai_awkward_runtime` and change the directory"
   ]
  },
  {
   "cell_type": "code",
   "execution_count": null,
   "metadata": {},
   "outputs": [
    {
     "name": "stdout",
     "output_type": "stream",
     "text": [
      "[WinError 2] The system cannot find the file specified: 'kaitai_awkward_runtime'\n",
      "c:\\Users\\mgman\\kaitai_awkward\\PyHEP-2023-Awkward-Target-for-Kaitai-Struct\\kaitai_awkward_runtime\\kaitai_awkward_runtime\\kaitai_awkward_runtime\\kaitai_awkward_runtime\\kaitai_awkward_runtime\\kaitai_awkward_runtime\n"
     ]
    },
    {
     "name": "stderr",
     "output_type": "stream",
     "text": [
      "Cloning into 'kaitai_awkward_runtime'...\n",
      "fatal: cannot stat 'C:/Users/mgman/kaitai_awkward/PyHEP-2023-Awkward-Target-for-Kaitai-Struct/kaitai_awkward_runtime/kaitai_awkward_runtime/kaitai_awkward_runtime/kaitai_awkward_runtime/kaitai_awkward_runtime/kaitai_awkward_runtime/kaitai_awkward_runtime/.git/hooks/applypatch-msg.sample': Filename too long\n"
     ]
    }
   ],
   "source": [
    "!git clone --recursive https://github.com/ManasviGoyal/kaitai_awkward_runtime.git\n",
    "%cd kaitai_awkward_runtime"
   ]
  },
  {
   "cell_type": "markdown",
   "metadata": {},
   "source": [
    "2. Install the Python module via `pip`"
   ]
  },
  {
   "cell_type": "code",
   "execution_count": 63,
   "metadata": {},
   "outputs": [
    {
     "name": "stdout",
     "output_type": "stream",
     "text": [
      "Note: you may need to restart the kernel to use updated packages.\n"
     ]
    },
    {
     "name": "stderr",
     "output_type": "stream",
     "text": [
      "ERROR: Directory '.' is not installable. Neither 'setup.py' nor 'pyproject.toml' found.\n"
     ]
    }
   ],
   "source": [
    "%pip install . --config-settings 'cmake.define.KSY=schemas/fake.ksy'   "
   ]
  },
  {
   "cell_type": "markdown",
   "metadata": {},
   "source": [
    "Along with the `fake.h` and `fake.cpp` files which contain the code for parsing the binary format, a `fake_main.cpp` file is generated to create the compiled python module.\n",
    "\n",
    "<p style=\"text-align: center;\">\n",
    "    <img src=\"img/fake%20awkward.png\" width=\"500\">\n",
    "</p>"
   ]
  },
  {
   "cell_type": "markdown",
   "metadata": {},
   "source": [
    "```C++\n",
    "#include <pybind11/pybind11.h>\n",
    "#include <pybind11/numpy.h>\n",
    "#include <fstream>\n",
    "#include <iostream>\n",
    "#include \"awkward/LayoutBuilder.h\"\n",
    "#include \"fake.h\"\n",
    "namespace py = pybind11;\n",
    "/**\n",
    " * Create a snapshot of the given builder, and return an `ak.Array` pyobject\n",
    " * @tparam T type of builder\n",
    " * @param builder builder\n",
    " * @return pyobject of Awkward Array\n",
    " */\n",
    "\n",
    "template<typename T>\n",
    "py::object snapshot_builder(const T &builder) {\n",
    "    // How much memory to allocate?\n",
    "    std::map <std::string, size_t> names_nbytes = {};\n",
    "    builder.buffer_nbytes(names_nbytes);\n",
    "\n",
    "    // Allocate memory\n",
    "    std::map<std::string, void *> buffers = {};\n",
    "    for (auto it: names_nbytes) {\n",
    "        uint8_t *ptr = new uint8_t[it.second];\n",
    "        buffers[it.first] = (void *) ptr;\n",
    "    }\n",
    "\n",
    "    // Write non-contiguous contents to memory\n",
    "    builder.to_buffers(buffers);\n",
    "    auto from_buffers = py::module::import(\"awkward\").attr(\"from_buffers\");\n",
    "\n",
    "    // Build Python dictionary containing arrays\n",
    "    py::dict container;\n",
    "    for (auto it: buffers) {\n",
    "        py::capsule free_when_done(it.second, [](void *data) {\n",
    "            uint8_t *dataPtr = reinterpret_cast<uint8_t *>(data);\n",
    "            delete[] dataPtr;\n",
    "        });\n",
    "\n",
    "        uint8_t *data = reinterpret_cast<uint8_t *>(it.second);\n",
    "        container[py::str(it.first)] = py::array_t<uint8_t>(\n",
    "                {names_nbytes[it.first]},\n",
    "                {sizeof(uint8_t)},\n",
    "                data,\n",
    "                free_when_done\n",
    "        );\n",
    "    }\n",
    "    return from_buffers(builder.form(), builder.length(), container);\n",
    "}\n",
    "\n",
    "/**\n",
    " * Pass the file path of binary data to create an array and return its snapshot\n",
    " * @param file_path of binary data file\n",
    " * @return pyobject of Awkward Array\n",
    " */\n",
    "py::object load(std::string file_path) {\n",
    "    std::ifstream infile(file_path, std::ifstream::binary);\n",
    "    kaitai::kstream ks(&infile);\n",
    "    fake_t obj = fake_t(&ks);\n",
    "    return snapshot_builder(obj.fake_builder);\n",
    "}\n",
    "\n",
    "PYBIND11_MODULE(awkward_fake, m) {\n",
    "    m.def(\"load\", &load);\n",
    "}"
   ]
  },
  {
   "cell_type": "markdown",
   "metadata": {},
   "source": [
    "Print the returned `ak.Array`"
   ]
  },
  {
   "cell_type": "code",
   "execution_count": 64,
   "metadata": {},
   "outputs": [
    {
     "ename": "AttributeError",
     "evalue": "module 'kaitai_awkward_runtime' has no attribute 'load'",
     "output_type": "error",
     "traceback": [
      "\u001b[1;31m---------------------------------------------------------------------------\u001b[0m",
      "\u001b[1;31mAttributeError\u001b[0m                            Traceback (most recent call last)",
      "\u001b[1;32mc:\\Users\\mgman\\kaitai_awkward\\PyHEP-2023-Awkward-Target-for-Kaitai-Struct\\talk.ipynb Cell 20\u001b[0m line \u001b[0;36m2\n\u001b[0;32m      <a href='vscode-notebook-cell:/c%3A/Users/mgman/kaitai_awkward/PyHEP-2023-Awkward-Target-for-Kaitai-Struct/talk.ipynb#X25sZmlsZQ%3D%3D?line=0'>1</a>\u001b[0m \u001b[39mimport\u001b[39;00m \u001b[39mkaitai_awkward_runtime\u001b[39;00m\n\u001b[1;32m----> <a href='vscode-notebook-cell:/c%3A/Users/mgman/kaitai_awkward/PyHEP-2023-Awkward-Target-for-Kaitai-Struct/talk.ipynb#X25sZmlsZQ%3D%3D?line=1'>2</a>\u001b[0m awkward_arrays \u001b[39m=\u001b[39m kaitai_awkward_runtime\u001b[39m.\u001b[39;49mload(\u001b[39m\"\u001b[39m\u001b[39mdata/fake.raw\u001b[39m\u001b[39m\"\u001b[39m)\n\u001b[0;32m      <a href='vscode-notebook-cell:/c%3A/Users/mgman/kaitai_awkward/PyHEP-2023-Awkward-Target-for-Kaitai-Struct/talk.ipynb#X25sZmlsZQ%3D%3D?line=2'>3</a>\u001b[0m \u001b[39mprint\u001b[39m(awkward_arrays)\n",
      "\u001b[1;31mAttributeError\u001b[0m: module 'kaitai_awkward_runtime' has no attribute 'load'"
     ]
    }
   ],
   "source": [
    "import kaitai_awkward_runtime\n",
    "awkward_arrays = kaitai_awkward_runtime.load(\"data/fake.raw\")\n",
    "print(awkward_arrays)"
   ]
  },
  {
   "cell_type": "markdown",
   "metadata": {},
   "source": [
    "### Future Plans\n",
    "- Improving the User Interface by making it simpler and more customizable\n",
    "- Adding support for `IndexedOption` Arrays"
   ]
  },
  {
   "cell_type": "markdown",
   "metadata": {},
   "source": [
    "For any questions or suggestions, feel free to contact:\n",
    "- Manasvi Goyal `mg.manasvi@gmail.com`\n",
    "- Amy Roberts `amy.roberts@ucdenver.edu`"
   ]
  },
  {
   "cell_type": "markdown",
   "metadata": {},
   "source": [
    "### Acknowledgements\n",
    "\n",
    "<div>\n",
    "    <img src=\"img/NSF%20logo.png\" width=\"60\" style=\"float: left;\">\n",
    "    Support for this work was provided by NSF cooperative agreements <a href=\"https://www.nsf.gov/awardsearch/showAward?AWD_ID=1836650\">OAC-1836650</a> and <a href=\"https://www.nsf.gov/awardsearch/showAward?AWD_ID=2323298\">PHY-2323298</a> (IRIS-HEP) and grants <a href=\"https://www.nsf.gov/awardsearch/showAward?AWD_ID=2104003\">OAC-2104003</a> (PONDD) and <a href=\"https://www.nsf.gov/awardsearch/showAward?AWD_ID=2103945\">OAC-2103945</a> (Awkward Array).\n",
    "</div>"
   ]
  }
 ],
 "metadata": {
  "kernelspec": {
   "display_name": "Python 3",
   "language": "python",
   "name": "python3"
  },
  "language_info": {
   "codemirror_mode": {
    "name": "ipython",
    "version": 3
   },
   "file_extension": ".py",
   "mimetype": "text/x-python",
   "name": "python",
   "nbconvert_exporter": "python",
   "pygments_lexer": "ipython3",
   "version": "3.11.5"
  },
  "orig_nbformat": 4
 },
 "nbformat": 4,
 "nbformat_minor": 2
}
